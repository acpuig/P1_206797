{
 "cells": [
  {
   "cell_type": "markdown",
   "metadata": {},
   "source": [
    "# Lab 1: JPEG\n",
    "* Student full name: Ariadna Cortés Puig\n",
    "* Student email: ariadna.cortes01@estudiant.upf.edu"
   ]
  },
  {
   "cell_type": "markdown",
   "metadata": {},
   "source": [
    "## Exercise 1."
   ]
  },
  {
   "cell_type": "markdown",
   "metadata": {},
   "source": [
    "**Start a script called rgb_yuv.py and create a\n",
    "translator from 3 values in RGB into the 3 YUV\n",
    "values, plus the opposite operation.**\n",
    "\n",
    "You can choose the 3 values, or open them from a\n",
    "text file, receive it from command line… feel free"
   ]
  },
  {
   "cell_type": "code",
   "execution_count": 12,
   "metadata": {},
   "outputs": [],
   "source": [
    "import numpy as np\n",
    "\n",
    "\n",
    "def rgb_2_yuv(rgb):    #funció per passar de rgb a yuv\n",
    "    \n",
    "    #Prenem els valors individuals de R,G,B\n",
    "    R = rgb[0]\n",
    "    G = rgb[1]\n",
    "    B = rgb[2]\n",
    "    \n",
    "    #Calculem els valors individuals de Y,U,V\n",
    "    Y = (0.257 * R + 0.504 * G + 0.098 * B) + 16\n",
    "    U = -0.148 * R - 0.291 * G + 0.439 * B + 128\n",
    "    V = 0.439 * R - 0.368 * G + 0.071 * B + 128\n",
    "\n",
    "    yuv = [Y, U, V]\n",
    "    return yuv\n",
    "\n",
    "def yuv_2_rgb(yuv):   #funció per passar de yuv a rgb\n",
    "    \n",
    "    #Prenem els valors individuals de Y,U,V\n",
    "    Y = yuv[0]\n",
    "    U = yuv[1]\n",
    "    V = yuv[2]\n",
    "   \n",
    "    #Calculem els valors individuals de R,G,B\n",
    "    R = 1.164 * (Y-16) + 1.596 * (V - 128)\n",
    "    G = 1.164 * (Y-16) - 0.813 * (V - 128) - 0.391 * (U-128)\n",
    "    B = 1.164 * (Y-16) + 2.018 * (U - 128)\n",
    "\n",
    "    rgb = [R, G, B]\n",
    "    return rgb"
   ]
  },
  {
   "cell_type": "code",
   "execution_count": 22,
   "metadata": {},
   "outputs": [
    {
     "data": {
      "text/plain": [
       "array([1., 1., 1.])"
      ]
     },
     "execution_count": 22,
     "metadata": {},
     "output_type": "execute_result"
    }
   ],
   "source": [
    "rgb = [1.0, 1.0, 1.0] \n",
    "yuv = rgb_2_yuv(rgb)\n",
    "rgb = yuv_2_rgb(yuv)\n",
    "np.around(rgb)"
   ]
  },
  {
   "cell_type": "markdown",
   "metadata": {},
   "source": [
    "## Exercise 4."
   ]
  },
  {
   "cell_type": "markdown",
   "metadata": {},
   "source": [
    "**Create a script which contains a function which\n",
    "applies a run-lenght encoding from a series of bytes\n",
    "given.**"
   ]
  },
  {
   "cell_type": "code",
   "execution_count": 21,
   "metadata": {},
   "outputs": [],
   "source": [
    " # Next code from: https://www.geeksforgeeks.org/run-length-encoding-python/\n",
    "from collections import OrderedDict\n",
    "def runLengthEncoding(input):\n",
    "  \n",
    "    # Generate ordered dictionary of all lower\n",
    "    # case alphabets, its output will be \n",
    "    # dict = {'w':0, 'a':0, 'd':0, 'e':0, 'x':0}\n",
    "    dict=OrderedDict.fromkeys(input, 0)\n",
    "  \n",
    "    # Now iterate through input string to calculate \n",
    "    # frequency of each character, its output will be \n",
    "    # dict = {'w':4,'a':3,'d':1,'e':1,'x':6}\n",
    "    for ch in input:\n",
    "        dict[ch] += 1\n",
    "  \n",
    "    # now iterate through dictionary to make \n",
    "    # output string from (key,value) pairs\n",
    "    output = ''\n",
    "    for key,value in dict.items():\n",
    "         output = output + key + str(value)\n",
    "    return output\n",
    "   \n"
   ]
  },
  {
   "cell_type": "code",
   "execution_count": 20,
   "metadata": {},
   "outputs": [
    {
     "name": "stdout",
     "output_type": "stream",
     "text": [
      "w4a3d1e1x6\n"
     ]
    }
   ],
   "source": [
    "input=\"wwwwaaadexxxxxx\"\n",
    "print (runLengthEncoding(input))"
   ]
  },
  {
   "cell_type": "markdown",
   "metadata": {},
   "source": [
    "## Exercise 5."
   ]
  },
  {
   "cell_type": "markdown",
   "metadata": {},
   "source": [
    "**Create a script which can convert, can decode\n",
    "(or both) an input using the DCT.**\n",
    "\n",
    "Not necessary a JPG encoder or decoder. A script only about DCT is OK too."
   ]
  },
  {
   "cell_type": "code",
   "execution_count": 16,
   "metadata": {},
   "outputs": [
    {
     "name": "stdout",
     "output_type": "stream",
     "text": [
      "[1. 1. 1.]\n"
     ]
    }
   ],
   "source": [
    "from scipy import fft\n",
    "\n",
    "x = [1.0, 1.0, 1.0]\n",
    "xF = fft.dct(x)\n",
    "x1 = fft.idct(xF)\n",
    "\n",
    "print(x1)"
   ]
  }
 ],
 "metadata": {
  "kernelspec": {
   "display_name": "Python 3 (ipykernel)",
   "language": "python",
   "name": "python3"
  },
  "language_info": {
   "codemirror_mode": {
    "name": "ipython",
    "version": 3
   },
   "file_extension": ".py",
   "mimetype": "text/x-python",
   "name": "python",
   "nbconvert_exporter": "python",
   "pygments_lexer": "ipython3",
   "version": "3.8.12"
  }
 },
 "nbformat": 4,
 "nbformat_minor": 4
}
